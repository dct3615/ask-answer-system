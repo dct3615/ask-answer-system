{
 "cells": [
  {
   "cell_type": "code",
   "execution_count": 1,
   "metadata": {},
   "outputs": [
    {
     "name": "stdout",
     "output_type": "stream",
     "text": [
      "6\n",
      "15\n",
      "13\n"
     ]
    }
   ],
   "source": [
    "# reduce的使用介绍\n",
    "# 意思就是对sequence连续使用function, 如果不给出initial, 则第一次调用传递sequence的两个元素, \n",
    "# 以后把前一次调用的结果和sequence的下一个元素传递给function. \n",
    "# 如果给出initial, 则第一次传递initial和sequence的第一个元素给function.\n",
    "from functools import reduce\n",
    "print(reduce(lambda x,y: x+y, [1, 2, 3]))\n",
    "print(reduce(lambda x, y: x+y, [1,2,3], 9))\n",
    "print(reduce(lambda x,y: x+y, [1, 2, 3], 7))\n"
   ]
  }
 ],
 "metadata": {
  "kernelspec": {
   "display_name": "Python 3",
   "language": "python",
   "name": "python3"
  },
  "language_info": {
   "codemirror_mode": {
    "name": "ipython",
    "version": 3
   },
   "file_extension": ".py",
   "mimetype": "text/x-python",
   "name": "python",
   "nbconvert_exporter": "python",
   "pygments_lexer": "ipython3",
   "version": "3.7.4"
  }
 },
 "nbformat": 4,
 "nbformat_minor": 2
}
