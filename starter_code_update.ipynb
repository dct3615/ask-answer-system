{
 "cells": [
  {
   "cell_type": "markdown",
   "metadata": {},
   "source": [
    "## Part 1：读取文件，并把内容分别写到两个list里（一个list对应问题集，另一个list对应答案集）"
   ]
  },
  {
   "cell_type": "code",
   "execution_count": 1,
   "metadata": {},
   "outputs": [],
   "source": [
    "\n",
    "def read_corpus():\n",
    "    \"\"\"\n",
    "    读取给定的语料库，并把问题列表和答案列表分别写入到 qlist, alist 里面。 在此过程中，不用对字符换做任何的处理（这部分需要在 Part 2.3里处理）\n",
    "    qlist = [\"问题1\"， “问题2”， “问题3” ....]\n",
    "    alist = [\"答案1\", \"答案2\", \"答案3\" ....]\n",
    "    务必要让每一个问题和答案对应起来（下标位置一致）\n",
    "    \"\"\"\n",
    "    import json\n",
    "    \n",
    "    path = \"./data/train-v2.0.json\"\n",
    "    with open(path,'r',encoding=\"utf8\") as f:\n",
    "        all_data = json.loads(f.read())\n",
    "    data = all_data[\"data\"]\n",
    "    qlist = []\n",
    "    alist = []\n",
    "    \n",
    "    for dic in data: # json 格式为字典嵌套列表，一级一级分解即可\n",
    "        paragraphs = dic[\"paragraphs\"]\n",
    "        for para in paragraphs:\n",
    "            qas = para[\"qas\"]\n",
    "            for qa in qas:\n",
    "                if qa[\"answers\"] != []:\n",
    "                    answer = qa[\"answers\"][0][\"text\"]\n",
    "                    alist.append(answer)\n",
    "                    question = qa[\"question\"]\n",
    "                    qlist.append(question)\n",
    "    assert len(qlist) == len(alist)  # 确保长度一样\n",
    "    return qlist, alist"
   ]
  },
  {
   "cell_type": "markdown",
   "metadata": {},
   "source": [
    "## Part 2： 理解数据（可视化分析/统计信息）\n",
    "对数据的理解是任何AI工作的第一步，需要充分对手上的数据有个更直观的理解。"
   ]
  },
  {
   "cell_type": "code",
   "execution_count": 2,
   "metadata": {},
   "outputs": [
    {
     "name": "stdout",
     "output_type": "stream",
     "text": [
      "总共 873167 个单词\n",
      "总共 45246 个不同的单词\n",
      "[61008, 37007, 33994, 21807, 18451, 17067, 16201, 15635, 13241, 10778, 8025, 8024, 7229, 7209, 5498, 5457, 5368, 4441, 4430, 4331, 4296, 4189, 4137, 4109, 3711, 3665, 3660, 3369, 3241, 3145, 3016, 2972, 2941, 2709, 2636, 2284, 2276, 2165, 2119, 2103, 1924, 1703, 1644, 1561, 1485, 1476, 1420, 1337, 1310, 1301, 1294, 1291, 1283, 1264, 1250, 1248, 1227, 1224, 1191, 1183, 1166, 1158, 1095, 1081, 1062, 1042, 1015, 1008, 982, 974, 930, 921, 919, 913, 911, 910, 895, 883, 876, 872, 855, 847, 840, 824, 819, 810, 808, 805, 787, 778, 775, 760, 744, 722, 717, 713, 702, 690, 683, 660]\n",
      "['the', 'What', 'of', 'in', 'to', 'was', 'is', 'did', 'what', 'a', 'How', 'Who', 'and', 'for', 'many', 'are', 'When', 'that', 'were', 'does', 'In', 'on', 'with', 'Which', 'from', 'by', 'as', 'year', 'Where', 'The', 'be', 'have', 'do', 'first', 'name', 'which', 'an', 'at', 'type', 'used', 'has', 'most', 'can', 'people', 'their', 'other', 'how', 'his', 'it', 'called', 'two', 'when', 'its', 'during', 'one', 'much', 'after', 'use', 'Why', 'city', 'or', 'not', 'New', 'US', 'who', 'had', 'located', 'time', 'been', 'about', 'country', 'between', 'known', 'group', 'into', 'part', 'century', 'term', 'more', 'population', 'system', 'made', 'some', 'would', 'language', 'new', 'American', 'kind', 'this', 'percentage', 'state', 'long', 'than', 'area', 'there', 'become', 'government', 'up', 'begin', 'take']\n"
     ]
    },
    {
     "data": {
      "image/png": "[encoded data removed]",
      "text/plain": [
       "<Figure size 432x288 with 1 Axes>"
      ]
     },
     "metadata": {
      "needs_background": "light"
     },
     "output_type": "display_data"
    },
    {
     "data": {
      "image/png": "[encoded data removed]",
      "text/plain": [
       "<Figure size 432x288 with 1 Axes>"
      ]
     },
     "metadata": {
      "needs_background": "light"
     },
     "output_type": "display_data"
    }
   ],
   "source": [
    "# TODO: 统计一下在qlist 总共出现了多少个单词？ 总共出现了多少个不同的单词？\n",
    "#       这里需要做简单的分词，对于英文我们根据空格来分词即可，其他过滤暂不考虑（只需分词）\n",
    "import string\n",
    "import re\n",
    " \n",
    "# 去标点符号，分词，得到词-词频字典\n",
    "def segmentWords(lst):\n",
    "    total = 0\n",
    "    word_dict = {}\n",
    "    for line in lst:\n",
    "        pattern = re.compile('[{}]'.format(re.escape(string.punctuation)))\n",
    "        sentence = pattern.sub(\"\", line) # 去除标点\n",
    "        words = sentence.split()\n",
    "        for word in words:\n",
    "            #对word出现的频率进行统计，当word不在words时，返回值是0，当word在words中时，返回+1，以此进行累计计数\n",
    "            word_dict[word] = word_dict.get(word, 0) + 1 \n",
    "            total += 1\n",
    "    return total,word_dict\n",
    " \n",
    "qlist, alist = read_corpus() # 获取词库\n",
    "word_total,q_dict = segmentWords(qlist)\n",
    "total_diff_word = len(q_dict.keys())\n",
    "print(\"总共 %d 个单词\" % word_total)\n",
    "print(\"总共 %d 个不同的单词\" % total_diff_word)\n",
    "# TODO: 统计一下qlist中每个单词出现的频率，并把这些频率排一下序，然后画成plot. 比如总共出现了总共7个不同单词，而且每个单词出现的频率为 4, 5,10,2, 1, 1,1\n",
    "#       把频率排序之后就可以得到(从大到小) 10, 5, 4, 2, 1, 1, 1. 然后把这7个数plot即可（从大到小）\n",
    "#       需要使用matplotlib里的plot函数。y轴是词频\n",
    "import matplotlib.pyplot as plt\n",
    " \n",
    "word_sorted = sorted(q_dict.items(),key=lambda k:k[1],reverse=True) #按词频排序\n",
    "word_freq = []\n",
    "word_list = []\n",
    "for line in word_sorted:\n",
    "    word_list.append(line[0]) # 单词列表\n",
    "    word_freq.append(line[1]) # 单词频率\n",
    " \n",
    "print(word_freq[:100])\n",
    "print(word_list[:100])\n",
    "x = range(total_diff_word)\n",
    "plt.plot(x,word_freq,'ro')\n",
    "plt.ylabel(\"word frequency\")\n",
    "plt.show()\n",
    " \n",
    "temp = [n for n in word_freq if n <=50]\n",
    "plt.plot(range(len(temp)),temp, color='r',linestyle='-',linewidth=2)\n",
    "plt.ylabel(\"word frequency\")\n",
    "plt.show()\n"
   ]
  },
  {
   "cell_type": "code",
   "execution_count": 3,
   "metadata": {},
   "outputs": [
    {
     "name": "stdout",
     "output_type": "stream",
     "text": [
      "top 10 word of qlist are:  ['the', 'What', 'of', 'in', 'to', 'was', 'is', 'did', 'what', 'a']\n",
      "top 10 word of alist are:  ['the', 'of', 'and', 'to', 'a', 'in', 'The', 'or', 'for', 'million']\n"
     ]
    }
   ],
   "source": [
    "# TODO: 在qlist和alist里出现次数最多的TOP 10单词分别是什么？\n",
    "a_total, a_dic = segmentWords(alist)\n",
    "words_sorted = sorted(a_dic.items(),key=lambda k:k[1],reverse=True)\n",
    "word_freq2 = []\n",
    "word_list2 = []\n",
    "for line in words_sorted:\n",
    "    word_list2.append(line[0])\n",
    "    word_freq2.append(line[1])\n",
    "print(\"top 10 word of qlist are: \", word_list[:10])\n",
    "print(\"top 10 word of alist are: \", word_list2[:10])\n"
   ]
  },
  {
   "cell_type": "markdown",
   "metadata": {},
   "source": [
    "# Part 3 ：文本预处理\n",
    "次部分需要尝试做文本的处理。在这里我们面对的是英文文本，所以任何对英文适合的技术都可以考虑进来。"
   ]
  },
  {
   "cell_type": "code",
   "execution_count": 4,
   "metadata": {},
   "outputs": [
    {
     "data": {
      "image/png": "[encoded data removed]",
      "text/plain": [
       "<Figure size 432x288 with 1 Axes>"
      ]
     },
     "metadata": {
      "needs_background": "light"
     },
     "output_type": "display_data"
    },
    {
     "data": {
      "image/png": "[encoded data removed]",
      "text/plain": [
       "<Figure size 432x288 with 1 Axes>"
      ]
     },
     "metadata": {
      "needs_background": "light"
     },
     "output_type": "display_data"
    },
    {
     "name": "stdout",
     "output_type": "stream",
     "text": [
      "the length of new qlist is  86821\n",
      "the length of new alist is  86821\n"
     ]
    }
   ],
   "source": [
    "# TODO: 对于qlist, alist做文本预处理操作。 可以考虑以下几种操作：\n",
    "#       1. 停用词过滤 （去网上搜一下 \"english stop words list\"，会出现很多包含停用词库的网页）   \n",
    "#       2. 转换成lower_case： 这是一个基本的操作   \n",
    "#       3. 去掉一些无用的符号： 比如连续的感叹号！！！， 或者一些奇怪的单词。\n",
    "#       4. 去掉出现频率很低的词：比如出现次数少于10,20....\n",
    "#       5. 对于数字的处理： 分词完只有有些单词可能就是数字比如44，415，把所有这些数字都看成是一个单词，这个新的单词我们可以定义为 \"#number\"\n",
    "#       6. stemming（利用porter stemming): 因为是英文，所以stemming也是可以做的工作\n",
    "#       7. 其他（如果有的话）\n",
    "#       请注意，不一定要按照上面的顺序来处理，具体处理的顺序思考一下，然后选择一个合理的顺序\n",
    "import nltk\n",
    "from nltk.corpus import stopwords\n",
    "from nltk.stem.porter import PorterStemmer\n",
    " \n",
    "stemmer = PorterStemmer()\n",
    " \n",
    "stopwords = set(stopwords.words('english'))\n",
    " \n",
    "# 预处理：去标点符号，去停用词，stemming,将数字转换为'#number'表示\n",
    "def preprocessing(lst):\n",
    "    new_list=[]\n",
    "    word_dic = {}\n",
    "    for line in lst:\n",
    "        pattern = re.compile('[{}]'.format(re.escape(string.punctuation)))\n",
    "        sentence = pattern.sub(\"\", line) # 去除标点\n",
    "        sentence = sentence.lower() # 转化为小写\n",
    "        words = sentence.split()\n",
    "        temp = []\n",
    "        for word in words:\n",
    "            if word not in stopwords: # 去除停用词\n",
    "                word = \"#number\" if word.isdigit() else word # 数字用#number表示\n",
    "                w = stemmer.stem(word) # stem操作\n",
    "                word_dic[w] = word_dic.get(w, 0) + 1\n",
    "                temp.append(w)\n",
    "        new_list.append(temp)\n",
    "    return word_dic,new_list\n",
    " \n",
    "# 画出100分为类的词频统计图\n",
    "def drawgraph(dic, name):\n",
    "    freq = list(dic.values())\n",
    "    freq.sort(reverse=True)\n",
    "    temp = [n for n in freq if n <=100]\n",
    "    plt.plot(range(len(temp)),temp,'r-')\n",
    "    plt.ylabel(name)\n",
    "    plt.show()\n",
    "\n",
    "# 过滤掉词频低于2，大于10000的词\n",
    "def filterword(dic, lst, bottom,top):\n",
    "    temp = []\n",
    "    for k,v in dic.items():\n",
    "        if v >= bottom and v <= top:\n",
    "            temp.append(k)\n",
    "    new_list = []\n",
    "    for line in lst:\n",
    "        words = [w for w in line if w in temp]\n",
    "        new_list.append(' '.join(words))\n",
    "                \n",
    "    return new_list\n",
    " \n",
    "q_dict,q_list = preprocessing(qlist) # 获取处理后字典和列表，分别为每个词的个数，所有的单词\n",
    "drawgraph(q_dict,\"word frequency of qlist\")\n",
    " \n",
    "a_dict,a_list = preprocessing(alist)\n",
    "drawgraph(a_dict, \"word frequency of alist\")\n",
    " \n",
    "new_qlist = filterword(q_dict, q_list, 2, 10000) # 过滤掉词频低于2，大于10000的词\n",
    "new_alist = filterword(a_dict, a_list, 2, 10000)\n",
    "print(\"the length of new qlist is \",len(new_qlist))\n",
    "print(\"the length of new alist is \",len(new_alist))"
   ]
  },
  {
   "cell_type": "markdown",
   "metadata": {},
   "source": [
    "## Part 4：文本表示\n",
    "当我们做完关键的预处理过程之后，就需要把每一个文本转换成向量。"
   ]
  },
  {
   "cell_type": "code",
   "execution_count": 5,
   "metadata": {},
   "outputs": [],
   "source": [
    "\n",
    "# TODO: 把qlist中的每一个问题字符串转换成tf-idf向量, 转换之后的结果存储在X矩阵里。 X的大小是： N* D的矩阵。 这里N是问题的个数（样本个数），\n",
    "#       D是字典库的大小。 \n",
    " \n",
    "from sklearn.feature_extraction.text import TfidfVectorizer\n",
    " \n",
    "vectorizer =  TfidfVectorizer()# 定一个tf-idf的vectorizer\n",
    " \n",
    "X = vectorizer.fit_transform(new_qlist)  # 结果存放在X矩阵\n",
    " \n",
    "# TODO: 矩阵X有什么特点？ 计算一下它的稀疏度\n",
    "x_mat = X.toarray()\n",
    "# n = len(x_mat)\n",
    "# m = len(x_mat[0])\n",
    "# t = 0\n",
    "# for i in range(n):\n",
    "#     for j in range(m):\n",
    "#         if x_mat[i][j] != 0:\n",
    "#             t += 1\n",
    "# sparsity = t / (n*m)\n",
    "# print (sparsity)  # 打印出稀疏度\n"
   ]
  },
  {
   "cell_type": "markdown",
   "metadata": {},
   "source": [
    "## Part 5 ：对于用户的输入问题，找到相似度最高的TOP5问题，并把5个潜在的答案做返回"
   ]
  },
  {
   "cell_type": "markdown",
   "metadata": {},
   "source": [
    "####  cosine_similarity函数说明\n",
    "返回的结果是$\\frac{xy^{T}}{\\left \\| x \\right \\|\\left \\| y \\right \\|}$"
   ]
  },
  {
   "cell_type": "code",
   "execution_count": 6,
   "metadata": {},
   "outputs": [],
   "source": [
    "from sklearn.metrics.pairwise import cosine_similarity\n",
    " \n",
    "def top5results(input_q):\n",
    "    \"\"\"\n",
    "    给定用户输入的问题 input_q, 返回最有可能的TOP 5问题。这里面需要做到以下几点：\n",
    "    1. 对于用户的输入 input_q 首先做一系列的预处理，然后再转换成tf-idf向量（利用上面的vectorizer)\n",
    "    2. 计算跟每个库里的问题之间的相似度\n",
    "    3. 找出相似度最高的top5问题的答案\n",
    "    \"\"\"\n",
    "    # 问题预处理\n",
    "    pattern = re.compile('[{}]'.format(re.escape(string.punctuation)))\n",
    "    sentence = pattern.sub(\"\", input_q)\n",
    "    sentence = sentence.lower()\n",
    "    words = sentence.split()\n",
    "    result = []\n",
    "    for word in words:\n",
    "        if word not in stopwords:\n",
    "            word = \"#number\" if word.isdigit() else word\n",
    "            w = stemmer.stem(word)\n",
    "            result.append(w)\n",
    "    \n",
    "    #计算相似度\n",
    "    input_seg = ' '.join(result)\n",
    "    input_vec = vectorizer.transform([input_seg])\n",
    "    res = cosine_similarity(input_vec, X)[0]\n",
    "    \n",
    "    #得到top 5的索引\n",
    "    score_idx = dict((i,v) for i,v in enumerate(res)) # 将每个值添加一个索引，并写进一个字典\n",
    "    score_sorted = sorted(score_idx.items(), key=lambda k:k[1],reverse=True) # 将字典按键排序\n",
    "    idx = [idx[0] for idx in score_sorted] # 取出键（即索引）\n",
    "    top_idxs = idx[:5]  # top_idxs存放相似度最高的（存在qlist里的）问题的下表 \n",
    "    print(top_idxs)\n",
    "    \n",
    "    result = [alist[i] for i in top_idxs]\n",
    "    return result  # 返回相似度最高的问题对应的答案，作为TOP5答案"
   ]
  },
  {
   "cell_type": "code",
   "execution_count": 7,
   "metadata": {},
   "outputs": [
    {
     "name": "stdout",
     "output_type": "stream",
     "text": [
      "[0, 39267, 60835, 23136, 62423]\n",
      "['in the late 1990s', 'Particularly since the 1950s, pro wrestling events have frequently been responsible for sellout crowds at large arenas', 'mandolin-based guitar programs', 'early DJs creating music in their own homes', 'Iwasaki Yatarō']\n",
      "[7786, 27470, 41967, 7844, 8154]\n",
      "['Greek', '1570s', 'living together', 'the evolution of all eukaryotes', 'Persian and Sanskrit']\n"
     ]
    }
   ],
   "source": [
    "# TODO: 编写几个测试用例，并输出结果\n",
    "print (top5results(\"when did Beyonce start becoming popular\"))\n",
    "print (top5results(\"what languge does the word of 'symbiosis' come from\"))\n",
    " "
   ]
  },
  {
   "cell_type": "markdown",
   "metadata": {},
   "source": [
    "# part 6 ：利用倒排表的优化\n",
    "上面的算法，一个最大的缺点是每一个用户问题都需要跟库里的所有的问题都计算相似度。假设我们库里的问题非常多，这将是效率非常低的方法。 这里面一个方案是通过倒排表的方式，先从库里面找到跟当前的输入类似的问题描述。然后针对于这些candidates问题再做余弦相似度的计算。这样会节省大量的时间。"
   ]
  },
  {
   "cell_type": "code",
   "execution_count": 8,
   "metadata": {},
   "outputs": [],
   "source": [
    "# 分数（10）\n",
    "\n",
    "# TODO: 基于倒排表的优化。在这里，我们可以定义一个类似于hash_map, 比如 inverted_index = {}， 然后存放包含每一个关键词的文档出现在了什么位置，\n",
    "#       也就是，通过关键词的搜索首先来判断包含这些关键词的文档（比如出现至少一个），然后对于candidates问题做相似度比较。\n",
    "# \n",
    "inverted_idx = {}  # 定一个一个简单的倒排表\n",
    "for i in range(len(new_qlist)):\n",
    "    for word in new_qlist[i].split():\n",
    "        if word not in inverted_idx:\n",
    "            inverted_idx[word] = [i]\n",
    "        else:\n",
    "            inverted_idx[word].append(i)\n",
    "for k in inverted_idx:\n",
    "    inverted_idx[k] = sorted(inverted_idx[k]) # 文档排序  "
   ]
  },
  {
   "cell_type": "code",
   "execution_count": 9,
   "metadata": {},
   "outputs": [],
   "source": [
    "import numpy as np\n",
    "def top5results_invidx(input_q):\n",
    "    \"\"\"\n",
    "    给定用户输入的问题 input_q, 返回最有可能的TOP 5问题。这里面需要做到以下几点：\n",
    "    1. 利用倒排表来筛选 candidate\n",
    "    2. 对于用户的输入 input_q 首先做一系列的预处理，然后再转换成tf-idf向量（利用上面的vectorizer)\n",
    "    3. 计算跟每个库里的问题之间的相似度\n",
    "    4. 找出相似度最高的top5问题的答案\n",
    "    \"\"\"\n",
    "    # 问题预处理\n",
    "    pattern = re.compile('[{}]'.format(re.escape(string.punctuation)))\n",
    "    sentence = pattern.sub(\"\", input_q) # 去除标点\n",
    "    sentence = sentence.lower() # 转为小写\n",
    "    words = sentence.split()\n",
    "    result = []\n",
    "    for word in words:\n",
    "        if word not in stopwords:\n",
    "            word = \"#number\" if word.isdigit() else word # 数字转为 #number\n",
    "            w = stemmer.stem(word) # steming\n",
    "            result.append(w)\n",
    "    # 根据倒排表筛选出候选问题索引\n",
    "    candidate = []\n",
    "    for word in result:\n",
    "        if word in inverted_idx:\n",
    "            candidate.append(inverted_idx[word])\n",
    "    candidate_idx = set()\n",
    "    for doc in candidate:\n",
    "        candidate_idx.update(doc) # 候选问题索引\n",
    "#     print(len(candidate_idx))\n",
    "    \n",
    "    #计算相似度\n",
    "    input_seg = ' '.join(result)\n",
    "    input_vec = vectorizer.transform([input_seg])\n",
    "    \n",
    "    # 与每个候选问题计算相似度\n",
    "    res = []\n",
    "    for i in candidate_idx:\n",
    "        score = cosine_similarity(input_vec,X[i])[0]\n",
    "        res.append((i,score[0]))  # [[1, d1],[2, d2]……]\n",
    "    res_sorted = sorted(res,key=lambda k:k[1],reverse=True) # key用于表示用第几个元素进行排序\n",
    "    #print(res_sorted)\n",
    "    \n",
    "    # 根据索引检索top 5答案\n",
    "    answers = []\n",
    "    i = 0\n",
    "    for (idx,score) in res_sorted:\n",
    "        if i < 5:\n",
    "            answer = alist[idx]\n",
    "            answers.append(answer)\n",
    "        i += 1\n",
    "    \n",
    "    return answers"
   ]
  },
  {
   "cell_type": "code",
   "execution_count": 10,
   "metadata": {},
   "outputs": [
    {
     "name": "stdout",
     "output_type": "stream",
     "text": [
      "['in the late 1990s', 'Particularly since the 1950s, pro wrestling events have frequently been responsible for sellout crowds at large arenas', 'mandolin-based guitar programs', 'early DJs creating music in their own homes', 'KRS-One']\n",
      "['Greek', '1570s', 'living together', 'the evolution of all eukaryotes', 'Persian and Sanskrit']\n"
     ]
    }
   ],
   "source": [
    "# TODO: 编写几个测试用例，并输出结果\n",
    "print (top5results_invidx(\"when did Beyonce start becoming popular\"))\n",
    "print (top5results_invidx(\"what languge does the word of 'symbiosis' come from\"))"
   ]
  },
  {
   "cell_type": "code",
   "execution_count": 11,
   "metadata": {},
   "outputs": [
    {
     "data": {
      "text/plain": [
       "'in the late 1990s'"
      ]
     },
     "execution_count": 11,
     "metadata": {},
     "output_type": "execute_result"
    }
   ],
   "source": [
    "alist[0]"
   ]
  },
  {
   "cell_type": "markdown",
   "metadata": {},
   "source": [
    "# Part 7: 基于词向量的文本表示\n",
    "上面所用到的方法论是基于词袋模型（bag-of-words model）。这样的方法论有两个主要的问题：1. 无法计算词语之间的相似度  2. 稀疏度很高。 在2.7里面我们\n",
    "讲采用词向量作为文本的表示。词向量方面需要下载： https://nlp.stanford.edu/projects/glove/ （请下载glove.6B.zip），并使用d=100的词向量（100维）。"
   ]
  },
  {
   "cell_type": "code",
   "execution_count": 12,
   "metadata": {},
   "outputs": [],
   "source": [
    "# 分数（10）\n",
    "import numpy as np\n",
    "import re\n",
    "import string\n",
    "import nltk\n",
    "from nltk.corpus import stopwords\n",
    "from nltk.stem.porter import PorterStemmer\n",
    " \n",
    "stemmer = PorterStemmer()\n",
    "stopwords = set(stopwords.words('english'))\n",
    "\n",
    "def ReadTxtName(rootdir): \n",
    "    words_in_vector = [] \n",
    "    words_vectors = []\n",
    "    with open(rootdir, 'r',encoding='UTF-8') as file_to_read: # UTF-8-sig 是为了避免开头出现\\ufeff \n",
    "        while True:\n",
    "            line = file_to_read.readline()\n",
    "            if not line: # 读取所有的内容           \n",
    "                break\n",
    "            line_split = line.split()\n",
    "            words_in_vector.append(line_split[0])\n",
    "            words_vectors.append(line_split[1:])\n",
    "    return words_in_vector,words_vectors\n",
    "\n",
    "rootdir = 'D:\\\\数据分析软件安装包\\\\glove.6B.100d.txt' \n",
    "words_in_vector,emb = ReadTxtName(rootdir) # 读取词向量表"
   ]
  },
  {
   "cell_type": "code",
   "execution_count": 163,
   "metadata": {},
   "outputs": [
    {
     "name": "stdout",
     "output_type": "stream",
     "text": [
      "in the late 1990s\n"
     ]
    }
   ],
   "source": [
    "from itertools import chain\n",
    "from collections import Counter\n",
    "# # TODO\n",
    "# 读取每一个单词的嵌入。这个是 D*H的矩阵，这里的D是词典库的大小， H是词向量的大小。 这里面我们给定的每个单词的词向量，那句子向量怎么表达？\n",
    "# 其中，最简单的方式 句子向量 = 词向量的平均（出现在问句里的）， 如果给定的词没有出现在词典库里，则忽略掉这个词。\n",
    "def caculate_sentence_vector(input_sentence, words_in_vector, emb):\n",
    "    word_vec_index = [] # 存储句子的词向量索引\n",
    "    for word in input_sentence:\n",
    "        index = words_in_vector.index(word) if word in words_in_vector else None\n",
    "        if index:\n",
    "            word_vec_index.append(index)\n",
    "#     print(word_vec_index)\n",
    "    if len(word_vec_index) == 0:\n",
    "        return False,False\n",
    "    sentence_vect = np.zeros_like(np.array(list(map(float, emb[0])))) # 存储句子的向量表示\n",
    "    n = 0\n",
    "    for i in word_vec_index:\n",
    "        n += 1\n",
    "        sentence_vect += np.array(list(map(float, emb[i])))\n",
    "    \n",
    "    return True,(sentence_vect/n).reshape(1, -1)\n",
    "\n",
    "def top5results_emb(input_q):\n",
    "    \"\"\"\n",
    "    给定用户输入的问题 input_q, 返回最有可能的TOP 5问题。这里面需要做到以下几点：\n",
    "    1. 利用倒排表来筛选 candidate\n",
    "    2. 对于用户的输入 input_q，转换成句子向量\n",
    "    3. 计算跟每个库里的问题之间的相似度\n",
    "    4. 找出相似度最高的top5问题的答案\n",
    "    \"\"\"\n",
    "    # 问题预处理\n",
    "    pattern = re.compile('[{}]'.format(re.escape(string.punctuation)))\n",
    "    sentence = pattern.sub(\"\", input_q) # 去除标点\n",
    "    sentence = sentence.lower() # 转为小写\n",
    "    words = sentence.split()\n",
    "    new_words = [] # 存储预处理后的句子\n",
    "    for word in words:\n",
    "        if word not in stopwords:\n",
    "            word = \"#number\" if word.isdigit() else word # 数字转为 #number\n",
    "            w = stemmer.stem(word) # steming\n",
    "            new_words.append(w)\n",
    "            \n",
    "    # 根据倒排表筛选出候选问题索引\n",
    "    candidate = []\n",
    "    count_word = []\n",
    "    for word in new_words:\n",
    "        if word in inverted_idx: # 倒排表\n",
    "            candidate.append(inverted_idx[word])  \n",
    "    \n",
    "    candidate_1d = list(chain.from_iterable(candidate)) # 数据扁平化\n",
    "    count_candidate = Counter(candidate_1d) # 统计词频\n",
    "    common = count_candidate.most_common(10) # 取出数量最多的前N个,如果未指定则返回所有\n",
    "    candidate_idx = set()\n",
    "    for (idx, count) in common:\n",
    "        if count >= 2: # 有两个单词出现则列为候选问题\n",
    "            candidate_idx.add(idx)\n",
    "    if len(candidate_idx) == 0:\n",
    "        return False,False\n",
    "#     print(candidate_idx)\n",
    "    _,input_sentence_vector = caculate_sentence_vector(new_words, words_in_vector, emb)\n",
    "    score = []\n",
    "    score_idx = []\n",
    "    for idx in candidate_idx:\n",
    "        flag,candidate_vect = caculate_sentence_vector(new_qlist[idx].split(), words_in_vector, emb) \n",
    "        if flag:\n",
    "            score.append(cosine_similarity(input_sentence_vector,candidate_vect)[0])\n",
    "            score_idx.append(idx)\n",
    "    return score_idx,score\n",
    "score_idx,score = top5results_emb(\"When did Beyonce start becoming popular?\") \n",
    "if score_idx == False:\n",
    "    print('抱歉，没找到答案')\n",
    "else:\n",
    "    print(alist[score_idx[np.argmax(score)]])"
   ]
  },
  {
   "cell_type": "code",
   "execution_count": 150,
   "metadata": {},
   "outputs": [
    {
     "data": {
      "text/plain": [
       "['When did Beyonce start becoming popular?',\n",
       " 'What areas did Beyonce compete in when she was growing up?',\n",
       " \"When did Beyonce leave Destiny's Child and become a solo singer?\",\n",
       " 'In what city and state did Beyonce  grow up? ',\n",
       " 'In which decade did Beyonce become famous?']"
      ]
     },
     "execution_count": 150,
     "metadata": {},
     "output_type": "execute_result"
    }
   ],
   "source": [
    "qlist[0:5]"
   ]
  },
  {
   "cell_type": "code",
   "execution_count": 151,
   "metadata": {},
   "outputs": [
    {
     "data": {
      "text/plain": [
       "['in the late 1990s',\n",
       " 'singing and dancing',\n",
       " '2003',\n",
       " 'Houston, Texas',\n",
       " 'late 1990s']"
      ]
     },
     "execution_count": 151,
     "metadata": {},
     "output_type": "execute_result"
    }
   ],
   "source": [
    "alist[0:5]"
   ]
  },
  {
   "cell_type": "code",
   "execution_count": null,
   "metadata": {},
   "outputs": [],
   "source": [
    "\n",
    "# 过滤掉词频低于2，大于10000的词\n",
    "def filterword(dic, lst, bottom,top):\n",
    "    temp = []\n",
    "    for k,v in dic.items():\n",
    "        if v >= bottom and v <= top:\n",
    "            temp.append(k)\n",
    "    new_list = []\n",
    "    for line in lst:\n",
    "        words = [w for w in line if w in temp]\n"
   ]
  },
  {
   "cell_type": "code",
   "execution_count": null,
   "metadata": {},
   "outputs": [],
   "source": []
  },
  {
   "cell_type": "code",
   "execution_count": null,
   "metadata": {},
   "outputs": [],
   "source": [
    "\n"
   ]
  }
 ],
 "metadata": {
  "kernelspec": {
   "display_name": "Python 3",
   "language": "python",
   "name": "python3"
  },
  "language_info": {
   "codemirror_mode": {
    "name": "ipython",
    "version": 3
   },
   "file_extension": ".py",
   "mimetype": "text/x-python",
   "name": "python",
   "nbconvert_exporter": "python",
   "pygments_lexer": "ipython3",
   "version": "3.7.4"
  }
 },
 "nbformat": 4,
 "nbformat_minor": 2
}
